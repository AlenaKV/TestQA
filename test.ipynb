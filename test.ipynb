{
  "cells": [
    {
      "cell_type": "markdown",
      "metadata": {
        "id": "view-in-github",
        "colab_type": "text"
      },
      "source": [
        "<a href=\"https://colab.research.google.com/github/AlenaKV/TestQA/blob/main/test.ipynb\" target=\"_parent\"><img src=\"https://colab.research.google.com/assets/colab-badge.svg\" alt=\"Open In Colab\"/></a>"
      ]
    },
    {
      "cell_type": "code",
      "execution_count": 5,
      "metadata": {
        "colab": {
          "base_uri": "https://localhost:8080/"
        },
        "id": "2LsQLHS7TXPh",
        "outputId": "35b2a107-d382-4a11-ec1f-03809f8446ed"
      },
      "outputs": [
        {
          "output_type": "stream",
          "name": "stdout",
          "text": [
            "Requirement already satisfied: pyyaml in /usr/local/lib/python3.10/dist-packages (6.0.1)\n",
            "{'database': {'host': 'localhost', 'port': 5432, 'user': 'admin', 'password': 'secret'}}\n",
            "Image not found\n"
          ]
        }
      ],
      "source": [
        "import cv2\n",
        "import os\n",
        "import numpy as np\n",
        "import math\n",
        "import sqlite3\n",
        "!pip install pyyaml\n",
        "import yaml\n",
        "\n",
        "with open(\"config.yaml\", \"r\") as file:\n",
        "    data1 = yaml.safe_load(file)\n",
        "data2 = {\n",
        "    \"database\": {\n",
        "        \"host\": \"localhost\",\n",
        "        \"port\": 5432,\n",
        "        \"user\": \"admin\",\n",
        "        \"password\": \"secret\",\n",
        "    }\n",
        "}\n",
        "\n",
        "with open(\"output.yaml\", \"w\") as file:\n",
        "    yaml.dump(data, file)\n",
        "\n",
        "print(data2)\n",
        "\n",
        "img = cv2.imread(\"/content/test_picture3.jpg\")\n",
        "if img is None:\n",
        "  print('Image not found')\n",
        "else:\n",
        "  gray_image = cv2.cvtColor(img, cv2.COLOR_BGR2GRAY)\n",
        "\n",
        "  # конвертация из серого в бинарное\n",
        "  ret, thresh = cv2.threshold(gray_image, 127, 255, 0)\n",
        "  # расчет моментов на бинарном изображении\n",
        "  M = cv2.moments(thresh)\n",
        "  #расчет коориднат центра объекта\n",
        "  centrX = int(M[\"m10\"] / M[\"m00\"]) #координата Х центра\n",
        "  centrY = int(M[\"m01\"] / M[\"m00\"]) #кооридната Y центра\n",
        "\n",
        "\n",
        "  contours=cv2.findContours(thresh, cv2.RETR_EXTERNAL, cv2.CHAIN_APPROX_NONE)\n",
        "  contours_p = np.vstack(contours[0]).squeeze()\n",
        "\n",
        "  x_coordinates = contours_p[:, 0]\n",
        "  y_coordinates = contours_p[:, 1]\n",
        "  image = cv2.circle(img, (centrX,centrY), radius=0, color=(0, 0, 255), thickness=-1)\n",
        "  cv2.imwrite(\"test_image_result3.png\",image)\n",
        "  print('Коорданата центра Х:', centrX)\n",
        "  print('Координата центра Y:', centrY)\n",
        "\n",
        "  lenghtvec=[]\n",
        "  for i in range(len(x_coordinates)):\n",
        "    lenghtvec.append(math.sqrt((x_coordinates[i]-centrX)**2+(y_coordinates[i]-centrY)**2))\n",
        "\n",
        "  mean = np.mean(lenghtvec)\n",
        "  print('Дисперсия: ', np.var(lenghtvec))\n",
        "  print('Стандартное отклонение: ' ,np.std(lenghtvec))\n",
        "\n",
        "  # Создаем подключение к базе данных\n",
        "  connection = sqlite3.connect('database_metric.db')\n",
        "  #Для отправки SQL-запросов в базу данных\n",
        "  cursor = connection.cursor()\n",
        "\n",
        "  # Создаем таблицу Metrics\n",
        "  cursor.execute('''\n",
        "  CREATE TABLE IF NOT EXISTS Metrics (\n",
        "  id INTEGER PRIMARY KEY,\n",
        "  variance REAL NOT NULL,\n",
        "  standard_deviation REAL NOT NULL\n",
        "  )\n",
        "  ''')\n",
        "  cursor.execute('INSERT INTO Metrics (variance, standard_deviation) VALUES (?, ?)', (np.var(lenghtvec), np.std(lenghtvec)))\n",
        "  cursor.execute('SELECT * FROM Metrics')\n",
        "  metrics_fromdb = cursor.fetchall()\n",
        "  print(metrics_fromdb)\n",
        "\n",
        "# Сохраняем изменения и закрываем соединение\n",
        "  connection.commit()\n",
        "  connection.close()\n",
        "\n",
        "  print('_________________________________________')\n",
        "\n",
        "\n",
        "\n",
        "\n"
      ]
    },
    {
      "cell_type": "code",
      "source": [],
      "metadata": {
        "id": "JqwF9cQuZaF4"
      },
      "execution_count": null,
      "outputs": []
    }
  ],
  "metadata": {
    "colab": {
      "provenance": [],
      "authorship_tag": "ABX9TyPLNJSWFFEmlkXU952pBG8z",
      "include_colab_link": true
    },
    "kernelspec": {
      "display_name": "Python 3",
      "name": "python3"
    },
    "language_info": {
      "name": "python"
    }
  },
  "nbformat": 4,
  "nbformat_minor": 0
}