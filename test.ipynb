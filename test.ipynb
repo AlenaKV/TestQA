{
  "nbformat": 4,
  "nbformat_minor": 0,
  "metadata": {
    "colab": {
      "provenance": [],
      "authorship_tag": "ABX9TyMMi4CwyGUH0vk86q+V/MoR",
      "include_colab_link": true
    },
    "kernelspec": {
      "name": "python3",
      "display_name": "Python 3"
    },
    "language_info": {
      "name": "python"
    }
  },
  "cells": [
    {
      "cell_type": "markdown",
      "metadata": {
        "id": "view-in-github",
        "colab_type": "text"
      },
      "source": [
        "<a href=\"https://colab.research.google.com/github/AlenaKV/TestQA/blob/main/test.ipynb\" target=\"_parent\"><img src=\"https://colab.research.google.com/assets/colab-badge.svg\" alt=\"Open In Colab\"/></a>"
      ]
    },
    {
      "cell_type": "code",
      "source": [
        "from os import X_OK\n",
        "import cv2\n",
        "import numpy as np\n",
        "from itertools import chain\n",
        "import math\n",
        "\n",
        "img = cv2.imread(\"/content/test_picture.jpg\")\n",
        "if img is None:\n",
        "  print('Image not found')\n",
        "else:\n",
        "  gray_image = cv2.cvtColor(img, cv2.COLOR_BGR2GRAY)\n",
        "\n",
        "  # конвертация из серого в бинарное\n",
        "  ret, thresh = cv2.threshold(gray_image, 127, 255, 0)\n",
        "  # расчет моментов на бинарном изображении\n",
        "  M = cv2.moments(thresh)\n",
        "  #расчет коориднат центра объекта\n",
        "  centrX = int(M[\"m10\"] / M[\"m00\"]) #координата Х центра\n",
        "  centrY = int(M[\"m01\"] / M[\"m00\"]) #кооридната Y центра\n",
        "\n",
        "  cv2.circle(img, (centrX, centrY), 2, (255, 0, 0), -1)\n",
        "\n",
        "  contours=cv2.findContours(thresh, cv2.RETR_EXTERNAL,\n",
        "                              cv2.CHAIN_APPROX_NONE)\n",
        "  #print(M[\"m00\"]) для отладки\n",
        "  #print(M[\"m10\"])\n",
        "  #print(M[\"m01\"])\n",
        "\n",
        "  contours =cv2.findContours(thresh, cv2.RETR_EXTERNAL,\n",
        "                              cv2.CHAIN_APPROX_NONE)\n",
        "\n",
        "  # Stack all contours together\n",
        "  contours_p = np.vstack(contours[0]).squeeze()\n",
        "\n",
        "  x_coordinates = contours_p[:, 0]\n",
        "  y_coordinates = contours_p[:, 1]\n",
        "  print('X centre:', centrX)\n",
        "  print('Y centre:', centrY)\n",
        "\n",
        "  lenghtvec=[]\n",
        "  for i in range(len(x_coordinates)):\n",
        "    lenghtvec.append(math.sqrt((x_coordinates[i]-centrX)**2+(y_coordinates[i]-centrY)**2))\n",
        "\n",
        "  mean = np.mean(lenghtvec)\n",
        "  print('Дисперсия: ', np.var(lenghtvec))\n",
        "  print('Стандартное отклонение: ' ,np.std(lenghtvec))\n",
        "  print(lenghtvec)\n",
        "  print('_________________________________________')\n",
        "\n",
        "\n",
        "\n",
        "\n"
      ],
      "metadata": {
        "id": "2LsQLHS7TXPh",
        "colab": {
          "base_uri": "https://localhost:8080/"
        },
        "outputId": "ab3fdedd-539f-4c8a-d432-be66a237d663"
      },
      "execution_count": 33,
      "outputs": [
        {
          "output_type": "stream",
          "name": "stdout",
          "text": [
            "Image not found\n"
          ]
        }
      ]
    }
  ]
}