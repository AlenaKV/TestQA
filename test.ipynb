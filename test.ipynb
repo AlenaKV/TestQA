{
  "cells": [
    {
      "cell_type": "markdown",
      "metadata": {
        "id": "view-in-github",
        "colab_type": "text"
      },
      "source": [
        "<a href=\"https://colab.research.google.com/github/AlenaKV/TestQA/blob/main/test.ipynb\" target=\"_parent\"><img src=\"https://colab.research.google.com/assets/colab-badge.svg\" alt=\"Open In Colab\"/></a>"
      ]
    },
    {
      "cell_type": "code",
      "execution_count": 4,
      "metadata": {
        "colab": {
          "base_uri": "https://localhost:8080/"
        },
        "id": "2LsQLHS7TXPh",
        "outputId": "78562471-954d-4325-a2a1-9ffd8ab607fc"
      },
      "outputs": [
        {
          "output_type": "stream",
          "name": "stdout",
          "text": [
            "Requirement already satisfied: pyyaml in /usr/local/lib/python3.10/dist-packages (6.0.1)\n",
            "{'metric': {'std': 10, 'var': 10}}\n",
            "Коорданата центра Х: 103\n",
            "Координата центра Y: 105\n",
            "Дисперсия:  0.5760325591165127\n",
            "Стандартное отклонение:  0.7589680883387079\n",
            "[(1, 0.5760325591165127, 0.7589680883387079)]\n",
            "_________________________________________\n"
          ]
        }
      ],
      "source": [
        "import cv2\n",
        "import os\n",
        "import numpy as np\n",
        "import math\n",
        "import sqlite3\n",
        "!pip install pyyaml\n",
        "import yaml\n",
        "\n",
        "\n",
        "data2 = {\n",
        "    \"metric\": {\n",
        "        \"std\": 10,\n",
        "        \"var\": 10,\n",
        "    }\n",
        "}\n",
        "with open(\"test.yaml\", \"w\") as file:\n",
        "    yaml.dump(data2, file)\n",
        "\n",
        "with open(\"test.yaml\") as file:\n",
        "    data1 = yaml.safe_load(file)\n",
        "\n",
        "print(data1)\n",
        "\n",
        "img = cv2.imread(\"/content/test_picture3.jpg\")\n",
        "if img is None:\n",
        "  print('Image not found')\n",
        "else:\n",
        "  gray_image = cv2.cvtColor(img, cv2.COLOR_BGR2GRAY)\n",
        "\n",
        "  # конвертация из серого в бинарное\n",
        "  ret, thresh = cv2.threshold(gray_image, 127, 255, 0)\n",
        "  # расчет моментов на бинарном изображении\n",
        "  M = cv2.moments(thresh)\n",
        "  #расчет коориднат центра объекта\n",
        "  centrX = int(M[\"m10\"] / M[\"m00\"]) #координата Х центра\n",
        "  centrY = int(M[\"m01\"] / M[\"m00\"]) #кооридната Y центра\n",
        "\n",
        "\n",
        "  contours=cv2.findContours(thresh, cv2.RETR_EXTERNAL, cv2.CHAIN_APPROX_NONE)\n",
        "  contours_p = np.vstack(contours[0]).squeeze()\n",
        "\n",
        "  x_coordinates = contours_p[:, 0]\n",
        "  y_coordinates = contours_p[:, 1]\n",
        "  image = cv2.circle(img, (centrX,centrY), radius=0, color=(0, 0, 255), thickness=-1)\n",
        "  cv2.imwrite(\"test_image_result3.png\",image)\n",
        "  print('Коорданата центра Х:', centrX)\n",
        "  print('Координата центра Y:', centrY)\n",
        "\n",
        "  lenghtvec=[]\n",
        "  for i in range(len(x_coordinates)):\n",
        "    lenghtvec.append(math.sqrt((x_coordinates[i]-centrX)**2+(y_coordinates[i]-centrY)**2))\n",
        "\n",
        "  mean = np.mean(lenghtvec)\n",
        "  print('Дисперсия: ', np.var(lenghtvec))\n",
        "  print('Стандартное отклонение: ' ,np.std(lenghtvec))\n",
        "\n",
        "  # Создаем подключение к базе данных\n",
        "  connection = sqlite3.connect('database_metric.db')\n",
        "  #Для отправки SQL-запросов в базу данных\n",
        "  cursor = connection.cursor()\n",
        "\n",
        "  # Создаем таблицу Metrics\n",
        "  cursor.execute('''\n",
        "  CREATE TABLE IF NOT EXISTS Metrics (\n",
        "  id INTEGER PRIMARY KEY,\n",
        "  variance REAL NOT NULL,\n",
        "  standard_deviation REAL NOT NULL\n",
        "  )\n",
        "  ''')\n",
        "  cursor.execute('INSERT INTO Metrics (variance, standard_deviation) VALUES (?, ?)', (np.var(lenghtvec), np.std(lenghtvec)))\n",
        "  cursor.execute('SELECT * FROM Metrics')\n",
        "  metrics_fromdb = cursor.fetchall()\n",
        "  print(metrics_fromdb)\n",
        "\n",
        "# Сохраняем изменения и закрываем соединение\n",
        "  connection.commit()\n",
        "  connection.close()\n",
        "\n",
        "  print('_________________________________________')\n",
        "\n",
        "\n",
        "\n",
        "\n"
      ]
    },
    {
      "cell_type": "code",
      "source": [],
      "metadata": {
        "id": "JqwF9cQuZaF4"
      },
      "execution_count": null,
      "outputs": []
    }
  ],
  "metadata": {
    "colab": {
      "provenance": [],
      "authorship_tag": "ABX9TyMIbHrsJQR9HdIrv5rDz7JE",
      "include_colab_link": true
    },
    "kernelspec": {
      "display_name": "Python 3",
      "name": "python3"
    },
    "language_info": {
      "name": "python"
    }
  },
  "nbformat": 4,
  "nbformat_minor": 0
}